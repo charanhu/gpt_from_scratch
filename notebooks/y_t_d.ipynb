{
 "cells": [
  {
   "cell_type": "code",
   "execution_count": 2,
   "metadata": {},
   "outputs": [
    {
     "name": "stdout",
     "output_type": "stream",
     "text": [
      "Dowloaded\n"
     ]
    }
   ],
   "source": [
    "from pytube import YouTube\n",
    "link = input(\"Enter link:  \")\n",
    "connector = YouTube(link)\n",
    "connector = connector.streams.get_highest_resolution()\n",
    "try:\n",
    "    connector.download()\n",
    "except:\n",
    "    print(\"Error\")\n",
    "print(\"Dowloaded\")"
   ]
  },
  {
   "cell_type": "code",
   "execution_count": null,
   "metadata": {},
   "outputs": [],
   "source": []
  }
 ],
 "metadata": {
  "kernelspec": {
   "display_name": "venv",
   "language": "python",
   "name": "python3"
  },
  "language_info": {
   "codemirror_mode": {
    "name": "ipython",
    "version": 3
   },
   "file_extension": ".py",
   "mimetype": "text/x-python",
   "name": "python",
   "nbconvert_exporter": "python",
   "pygments_lexer": "ipython3",
   "version": "3.11.4"
  }
 },
 "nbformat": 4,
 "nbformat_minor": 2
}
